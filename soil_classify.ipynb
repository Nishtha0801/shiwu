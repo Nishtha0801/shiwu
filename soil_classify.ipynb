{
  "nbformat": 4,
  "nbformat_minor": 0,
  "metadata": {
    "colab": {
      "name": "soil_classify.ipynb",
      "provenance": []
    },
    "kernelspec": {
      "name": "python3",
      "display_name": "Python 3"
    },
    "language_info": {
      "name": "python"
    }
  },
  "cells": [
    {
      "cell_type": "code",
      "metadata": {
        "id": "90du5wPYa_X1"
      },
      "source": [
        "import matplotlib.pyplot as plt\n",
        "import seaborn as sns\n",
        "\n",
        "import keras\n",
        "from keras.models import Sequential\n",
        "from keras.layers import Dense, Conv2D, MaxPool2D, Flatten, Dropout\n",
        "from keras.preprocessing.image import ImageDataGenerator\n",
        "from keras.optimizers import Adam\n",
        "\n",
        "from sklearn.metrics import classification_report, confusion_matrix\n",
        "\n",
        "import tensorflow as tf\n",
        "\n",
        "import cv2\n",
        "import os\n",
        "\n",
        "import numpy as np"
      ],
      "execution_count": null,
      "outputs": []
    },
    {
      "cell_type": "code",
      "metadata": {
        "id": "P73cPUQibPCa"
      },
      "source": [
        "labels = ['alluvial', 'black', 'clay', 'red']\n",
        "img_size = 224\n",
        "\n",
        "def get_data(data_dir):\n",
        "    data = []\n",
        "    for label in labels:\n",
        "        path = os.path.join(data_dir, label)\n",
        "        #print(path)\n",
        "        #print(os.listdir(path))\n",
        "        class_num = labels.index(label)\n",
        "        for img in os.listdir(path):\n",
        "            try:\n",
        "                img_arr = cv2.imread(os.path.join(path, img))[...,::-1]\n",
        "                resized_arr = cv2.resize(img_arr, (img_size, img_size))\n",
        "                data.append([resized_arr, class_num])\n",
        "            except:\n",
        "                print(Exception)\n",
        "    return np.array(data)\n"
      ],
      "execution_count": null,
      "outputs": []
    },
    {
      "cell_type": "code",
      "metadata": {
        "colab": {
          "base_uri": "https://localhost:8080/"
        },
        "id": "pdghsCQL4IRC",
        "outputId": "dcb2d7df-7b7c-4029-956c-b2d20c0f2354"
      },
      "source": [
        "print(os.getcwd())"
      ],
      "execution_count": null,
      "outputs": [
        {
          "output_type": "stream",
          "text": [
            "/content\n"
          ],
          "name": "stdout"
        }
      ]
    },
    {
      "cell_type": "code",
      "metadata": {
        "colab": {
          "base_uri": "https://localhost:8080/"
        },
        "id": "9uqQwm_M42IK",
        "outputId": "543c045d-7c55-4769-8c03-25b95ba31a43"
      },
      "source": [
        "train = get_data('soil_dataset/train')\n",
        "val = get_data('soil_dataset/test')"
      ],
      "execution_count": null,
      "outputs": [
        {
          "output_type": "stream",
          "text": [
            "soil_dataset/train/alluvial\n",
            "['Alluvial_67.jpg', 'Alluvial_26.jpg', 'Alluvial_62.jpg', 'Alluvial_43.jpg', 'Alluvial_94.jpg', 'Alluvial_126.jpg', 'Alluvial_137.jpg', 'Alluvial_20.jpg', 'Alluvial_138.jpg', 'Alluvial_45.jpg', 'Alluvial_3.jpg', 'Alluvial_123.jpg', 'Alluvial_7.jpg', 'Alluvial_153.jpg', 'Alluvial_27.jpg', 'Alluvial_114.jpg', 'Alluvial_23.jpg', 'Alluvial_17.jpg', 'Alluvial_159.jpg', 'Alluvial_80.jpg', 'Alluvial_30.jpg', 'Alluvial_104.jpg', 'Alluvial_102.jpg', 'Alluvial_29.jpg', 'Alluvial_131.jpg', 'Alluvial_28.jpg', 'Alluvial_51.jpg', 'Alluvial_172.jpg', 'Alluvial_162.jpg', 'Alluvial_16.jpg', 'Alluvial_56.jpg', 'Alluvial_154.jpg', 'Alluvial_165.jpg', 'Alluvial_103.jpg', 'Alluvial_11.jpg', 'Alluvial_142.jpg', 'Alluvial_152.jpg', 'Alluvial_166.jpg', 'Alluvial_115.jpg', 'Alluvial_61.jpg', 'Alluvial_164.jpg', 'Alluvial_135.jpg', 'Alluvial_9.jpg', 'Alluvial_151.jpg', 'Alluvial_5.jpg', 'Alluvial_19.jpg', 'Alluvial_58.jpg', 'Alluvial_160.jpg', 'Alluvial_74.jpg', 'Alluvial_170.jpg', 'Alluvial_99.jpg', 'Alluvial_134.jpg', 'Alluvial_128.jpg', 'Alluvial_107.jpg', 'Alluvial_66.jpg', 'Alluvial_15.jpg', 'Alluvial_113.jpg', 'Alluvial_143.jpg', 'Alluvial_73.jpg', 'Alluvial_156.jpg', 'Alluvial_155.jpg', 'Alluvial_69.jpg', 'Alluvial_18.jpg', 'Alluvial_175.jpg', 'Alluvial_22.jpg', 'Alluvial_83.jpg', 'Alluvial_70.jpg', 'Alluvial_40.jpg', 'Alluvial_150.jpg', 'Alluvial_132.jpg', 'Alluvial_92.jpg', 'Alluvial_122.jpg', 'Alluvial_95.jpg', 'Alluvial_59.jpg', 'Alluvial_145.jpg', 'Alluvial_60.jpg', 'Alluvial_36.jpg', 'Alluvial_96.jpg', 'Alluvial_112.jpg', 'Alluvial_25.jpg', 'Alluvial_81.jpg', 'Alluvial_34.jpg', 'Alluvial_109.jpg', 'Alluvial_163.jpg', 'Alluvial_111.jpg', 'Alluvial_108.jpg', 'Alluvial_124.jpg', 'Alluvial_39.jpg', 'Alluvial_68.jpg', 'Alluvial_173.jpg', 'Alluvial_105.jpg', 'Alluvial_117.jpg', 'Alluvial_24.jpg', 'Alluvial_157.jpg', 'Alluvial_133.jpg', 'Alluvial_49.jpg', 'Alluvial_144.jpg', 'Alluvial_33.jpg', 'Alluvial_76.jpg', 'Alluvial_136.jpg', 'Alluvial_63.jpg', 'Alluvial_10.jpg', 'Alluvial_169.jpg', 'Alluvial_44.jpg', 'Alluvial_116.jpg', 'Alluvial_57.jpg', 'Alluvial_149.jpg', 'Alluvial_158.jpg', 'Alluvial_171.jpg', 'Alluvial_53.jpg', 'Alluvial_32.jpg', 'Alluvial_121.jpg', 'Alluvial_48.jpg', 'Alluvial_82.jpg', 'Alluvial_140.jpg', 'Alluvial_88.jpg', 'Alluvial_130.jpg', 'Alluvial_148.jpg', 'Alluvial_118.jpg', 'Alluvial_35.jpg', 'Alluvial_1.jpg', 'Alluvial_86.jpg', 'Alluvial_4.jpg', 'Alluvial_2.jpg', 'Alluvial_161.jpg', 'Alluvial_168.jpg', 'Alluvial_125.jpg', 'Alluvial_38.jpg', 'Alluvial_64.jpg', 'Alluvial_50.jpg', 'Alluvial_89.jpg', 'Alluvial_72.jpg', 'Alluvial_127.jpg', 'Alluvial_167.jpg', 'Alluvial_78.jpg', 'Alluvial_106.jpg', 'Alluvial_41.jpg', 'Alluvial_65.jpg', 'Alluvial_37.jpg', 'Alluvial_79.jpg', 'Alluvial_119.jpg', 'Alluvial_98.jpg', 'Alluvial_141.jpg', 'Alluvial_55.jpg', 'Alluvial_174.jpg', 'Alluvial_84.jpg', 'Alluvial_6.jpg', 'Alluvial_100.jpg', 'Alluvial_139.jpg', 'Alluvial_54.jpg', 'Alluvial_14.jpg', 'Alluvial_52.jpg', 'Alluvial_47.jpg', 'Alluvial_147.jpg', 'Alluvial_90.jpg', 'Alluvial_75.jpg', 'Alluvial_129.jpg', 'Alluvial_93.jpg', 'Alluvial_13.jpg', 'Alluvial_91.jpg', 'Alluvial_101.jpg', 'Alluvial_42.jpg', 'Alluvial_97.jpg', 'Alluvial_146.jpg', 'Alluvial_87.jpg', 'Alluvial_110.jpg', 'Alluvial_71.jpg', 'Alluvial_21.jpg', 'Alluvial_85.jpg', 'Alluvial_46.jpg', 'Alluvial_8.jpg', 'Alluvial_31.jpg', 'Alluvial_77.jpg', 'Alluvial_12.jpg', 'Alluvial_120.jpg']\n",
            "soil_dataset/train/black\n",
            "['Black_75.jpg', 'Black_142.jpg', 'Black_85.jpg', 'Black_124.jpg', 'Black_51.jpg', 'Black_56.jpg', 'Black_198.jpg', 'Black_4.jpg', 'Black_179.jpg', 'Black_91.jpg', 'Black_201.jpg', 'Black_86.jpg', 'Black_78.jpg', 'Black_49.jpg', 'Black_68.jpg', 'Black_36.jpg', 'Black_89.jpg', 'Black_196.jpg', 'Black_9.jpg', 'Black_163.jpg', 'Black_117.jpg', 'Black_41.jpg', 'Black_71.jpg', 'Black_77.jpg', 'Black_95.jpg', 'Black_205.jpg', 'Black_90.jpg', 'Black_169.jpg', 'Black_14.jpg', 'Black_147.jpg', 'Black_162.jpg', 'Black_105.jpg', 'Black_130.jpg', 'Black_211.jpg', 'Black_35.jpg', 'Black_155.jpg', 'Black_46.jpg', 'Black_52.jpg', 'Black_109.jpg', 'Black_13.jpg', 'Black_208.jpg', 'Black_212.jpg', 'Black_39.jpg', 'Black_45.jpg', 'Black_202.jpg', 'Black_69.jpg', 'Black_210.jpg', 'Black_178.jpg', 'Black_120.jpg', 'Black_160.jpg', 'Black_146.jpg', 'Black_34.jpg', 'Black_119.jpg', 'Black_103.jpg', 'Black_151.jpg', 'Black_104.jpg', 'Black_83.jpg', 'Black_110.jpg', 'Black_107.jpg', 'Black_168.jpg', 'Black_183.jpg', 'Black_137.jpg', 'Black_43.jpg', 'Black_26.jpg', 'Black_73.jpg', 'Black_100.jpg', 'Black_115.jpg', 'Black_121.jpg', 'Black_123.jpg', 'Black_184.jpg', 'Black_55.jpg', 'Black_12.jpg', 'Black_127.jpg', 'Black_106.jpg', 'Black_131.jpg', 'Black_166.jpg', 'Black_199.jpg', 'Black_63.jpg', 'Black_158.jpg', 'Black_80.jpg', 'Black_172.jpg', 'Black_58.jpg', 'Black_61.jpg', 'Black_193.jpg', 'Black_70.jpg', 'Black_33.jpg', 'Black_189.jpg', 'Black_50.jpg', 'Black_132.jpg', 'Black_21.jpg', 'Black_118.jpg', 'Black_17.jpg', 'Black_84.jpg', 'Black_28.jpg', 'Black_20.jpg', 'Black_76.jpg', 'Black_143.jpg', 'Black_3.jpg', 'Black_65.jpg', 'Black_167.jpg', 'Black_11.jpg', 'Black_98.jpg', 'Black_102.jpg', 'Black_164.jpg', 'Black_194.jpg', 'Black_62.jpg', 'Black_96.jpg', 'Black_186.jpg', 'Black_180.jpg', 'Black_209.jpg', 'Black_19.jpg', 'Black_195.jpg', 'Black_165.jpg', 'Black_133.jpg', 'Black_145.jpg', 'Black_101.jpg', 'Black_60.jpg', 'Black_5.jpg', 'Black_144.jpg', 'Black_152.jpg', 'Black_57.jpg', 'Black_204.jpg', 'Black_40.jpg', 'Black_87.jpg', 'Black_125.jpg', 'Black_48.jpg', 'Black_150.jpg', 'Black_113.jpg', 'Black_173.jpg', 'Black_72.jpg', 'Black_44.jpg', 'Black_192.jpg', 'Black_22.jpg', 'Black_25.jpg', 'Black_187.jpg', 'Black_126.jpg', 'Black_67.jpg', 'Black_188.jpg', 'Black_54.jpg', 'Black_114.jpg', 'Black_161.jpg', 'Black_138.jpg', 'Black_154.jpg', 'Black_157.jpg', 'Black_47.jpg', 'Black_32.jpg', 'Black_24.jpg', 'Black_185.jpg', 'Black_200.jpg', 'Black_74.jpg', 'Black_159.jpg', 'Black_94.jpg', 'Black_191.jpg', 'Black_79.jpg', 'Black_153.jpg', 'Black_171.jpg', 'Black_141.jpg', 'Black_156.jpg', 'Black_136.jpg', 'Black_59.jpg', 'Black_37.jpg', 'Black_182.jpg', 'Black_18.jpg', 'Black_6.jpg', 'Black_108.jpg', 'Black_93.jpg', 'Black_122.jpg', 'Black_66.jpg', 'Black_38.jpg', 'Black_190.jpg', 'Black_148.jpg', 'Black_10.jpg', 'Black_175.jpg', 'Black_97.jpg', 'Black_197.jpg', 'Black_139.jpg', 'Black_15.jpg', 'Black_53.jpg', 'Black_135.jpg', 'Black_174.jpg', 'Black_170.jpg', 'Black_92.jpg', 'Black_99.jpg', 'Black_16.jpg', 'Black_1.jpg', 'Black_42.jpg', 'Black_177.jpg', 'Black_23.jpg', 'Black_128.jpg', 'Black_27.jpg', 'Black_206.jpg', 'Black_129.jpg', 'Black_112.jpg', 'Black_2.jpg', 'Black_31.jpg', 'Black_30.jpg', 'Black_134.jpg', 'Black_149.jpg', 'Black_116.jpg', 'Black_88.jpg', 'Black_181.jpg', 'Black_82.jpg', 'Black_7.jpg', 'Black_81.jpg', 'Black_29.jpg', 'Black_64.jpg', 'Black_176.jpg', 'Black_140.jpg', 'Black_8.jpg', 'Black_207.jpg', 'Black_203.jpg', 'Black_111.jpg']\n",
            "soil_dataset/train/clay\n",
            "['Clay_56.jpg', 'Clay_47.jpg', 'Clay_122.jpg', 'Clay_53.jpg', 'Clay_63.jpg', 'Clay_27.jpg', 'Clay_131.jpg', 'Clay_93.jpg', 'Clay_140.jpg', 'Clay_64.jpg', 'Clay_51.jpg', 'Clay_55.jpg', 'Clay_5.jpg', 'Clay_88.jpg', 'Clay_61.jpg', 'Clay_105.jpg', 'Clay_52.jpg', 'Clay_75.jpg', 'Clay_102.jpg', 'Clay_62.jpg', 'Clay_10.jpg', 'Clay_39.jpg', 'Clay_139.jpg', 'Clay_36.jpg', 'Clay_86.jpg', 'Clay_18.jpg', 'Clay_54.jpg', 'Clay_30.jpg', 'Clay_109.jpg', 'Clay_123.jpg', 'Clay_111.jpg', 'Clay_41.jpg', 'Clay_50.jpg', 'Clay_132.jpg', 'Clay_28.jpg', 'Clay_129.jpg', 'Clay_137.jpg', 'Clay_69.jpg', 'Clay_84.jpg', 'Clay_76.jpg', 'Clay_58.jpg', 'Clay_44.jpg', 'Clay_46.jpg', 'Clay_12.jpg', 'Clay_141.jpg', 'Clay_48.jpg', 'Clay_71.jpg', 'Clay_79.jpg', 'Clay_31.jpg', 'Clay_119.jpg', 'Clay_103.jpg', 'Clay_83.jpg', 'Clay_66.jpg', 'Clay_128.jpg', 'Clay_142.jpg', 'Clay_20.jpg', 'Clay_144.jpg', 'Clay_65.jpg', 'Clay_82.jpg', 'Clay_23.jpg', 'Clay_9.jpg', 'Clay_2.jpg', 'Clay_87.jpg', 'Clay_6.jpg', 'Clay_45.jpg', 'Clay_95.jpg', 'Clay_89.jpg', 'Clay_24.jpg', 'Clay_3.jpg', 'Clay_112.jpg', 'Clay_98.jpg', 'Clay_121.jpg', 'Clay_124.jpg', 'Clay_143.jpg', 'Clay_11.jpg', 'Clay_104.jpg', 'Clay_67.jpg', 'Clay_72.jpg', 'Clay_118.jpg', 'Clay_117.jpg', 'Clay_22.jpg', 'Clay_26.jpg', 'Clay_96.jpg', 'Clay_32.jpg', 'Clay_25.jpg', 'Clay_90.jpg', 'Clay_100.jpg', 'Clay_91.jpg', 'Clay_94.jpg', 'Clay_42.jpg', 'Clay_133.jpg', 'Clay_14.jpg', 'Clay_85.jpg', 'Clay_21.jpg', 'Clay_17.jpg', 'Clay_29.jpg', 'Clay_81.jpg', 'Clay_113.jpg', 'Clay_135.jpg', 'Clay_19.jpg', 'Clay_108.jpg', 'Clay_43.jpg', 'Clay_77.jpg', 'Clay_40.jpg', 'Clay_106.jpg', 'Clay_73.jpg', 'Clay_134.jpg', 'Clay_138.jpg', 'Clay_37.jpg', 'Clay_33.jpg', 'Clay_110.jpg', 'Clay_115.jpg', 'Clay_127.jpg', 'Clay_16.jpg', 'Clay_126.jpg', 'Clay_120.jpg', 'Clay_35.jpg', 'Clay_59.jpg', 'Clay_130.jpg', 'Clay_13.jpg', 'Clay_97.jpg', 'Clay_38.jpg', 'Clay_1.jpg', 'Clay_70.jpg', 'Clay_8.jpg', 'Clay_57.jpg', 'Clay_60.jpg', 'Clay_4.jpg', 'Clay_136.jpg', 'Clay_114.jpg', 'Clay_101.jpg', 'Clay_68.jpg', 'Clay_34.jpg', 'Clay_125.jpg', 'Clay_15.jpg', 'Clay_116.jpg', 'Clay_99.jpg', 'Clay_92.jpg', 'Clay_80.jpg', 'Clay_49.jpg', 'Clay_7.jpg', 'Clay_78.jpg', 'Clay_107.jpg', 'Clay_74.jpg']\n",
            "soil_dataset/train/red\n",
            "['Red_27.jpg', 'Red_48.jpg', 'Red_176.jpg', 'Red_162.jpg', 'Red_155.jpg', 'Red_66.jpg', 'Red_42.jpg', 'Red_74.jpg', 'Red_83.jpg', 'Red_150.jpg', 'Red_110.jpg', 'Red_5.jpg', 'Red_149.jpg', 'Red_87.jpg', 'Red_62.jpg', 'Red_13.jpg', 'Red_157.jpg', 'Red_36.jpg', 'Red_37.jpg', 'Red_99.jpg', 'Red_121.jpg', 'Red_33.jpg', 'Red_113.jpg', 'Red_181.jpg', 'Red_169.jpg', 'Red_57.jpg', 'Red_39.jpg', 'Red_166.jpg', 'Red_61.jpg', 'Red_127.jpg', 'Red_88.jpg', 'Red_56.jpg', 'Red_184.jpg', 'Red_82.jpg', 'Red_146.jpg', 'Red_165.jpg', 'Red_163.jpg', 'Red_132.jpg', 'Red_114.jpg', 'Red_161.jpg', 'Red_20.jpg', 'Red_16.jpg', 'Red_141.jpg', 'Red_143.jpg', 'Red_164.jpg', 'Red_170.jpg', 'Red_172.jpg', 'Red_118.jpg', 'Red_148.jpg', 'Red_153.jpg', 'Red_173.jpg', 'Red_9.jpg', 'Red_137.jpg', 'Red_89.jpg', 'Red_50.jpg', 'Red_86.jpg', 'Red_17.jpg', 'Red_134.jpg', 'Red_12.jpg', 'Red_30.jpg', 'Red_159.jpg', 'Red_7.jpg', 'Red_91.jpg', 'Red_160.jpg', 'Red_70.jpg', 'Red_175.jpg', 'Red_55.jpg', 'Red_97.jpg', 'Red_98.jpg', 'Red_63.jpg', 'Red_104.jpg', 'Red_122.jpg', 'Red_93.jpg', 'Red_135.jpg', 'Red_128.jpg', 'Red_158.jpg', 'Red_60.jpg', 'Red_49.jpg', 'Red_31.jpg', 'Red_69.jpg', 'Red_180.jpg', 'Red_117.jpg', 'Red_119.jpg', 'Red_174.jpg', 'Red_101.jpg', 'Red_100.jpg', 'Red_43.jpg', 'Red_106.jpg', 'Red_71.jpg', 'Red_8.jpg', 'Red_67.jpg', 'Red_177.jpg', 'Red_45.jpg', 'Red_85.jpg', 'Red_22.jpg', 'Red_178.jpg', 'Red_105.jpg', 'Red_168.jpg', 'Red_142.jpg', 'Red_15.jpg', 'Red_107.jpg', 'Red_14.jpg', 'Red_111.jpg', 'Red_26.jpg', 'Red_58.jpg', 'Red_25.jpg', 'Red_44.jpg', 'Red_138.jpg', 'Red_126.jpg', 'Red_75.jpg', 'Red_151.jpg', 'Red_92.jpg', 'Red_38.jpg', 'Red_23.jpg', 'Red_28.jpg', 'Red_179.jpg', 'Red_64.jpg', 'Red_19.jpg', 'Red_125.jpg', 'Red_139.jpg', 'Red_131.jpg', 'Red_59.jpg', 'Red_51.jpg', 'Red_133.jpg', 'Red_54.jpg', 'Red_78.jpg', 'Red_108.jpg', 'Red_29.jpg', 'Red_90.jpg', 'Red_120.jpg', 'Red_103.jpg', 'Red_11.jpg', 'Red_129.jpg', 'Red_94.jpg', 'Red_96.jpg', 'Red_10.jpg', 'Red_81.jpg', 'Red_102.jpg', 'Red_18.jpg', 'Red_73.jpg', 'Red_167.jpg', 'Red_130.jpg', 'Red_84.jpg', 'Red_136.jpg', 'Red_144.jpg', 'Red_112.jpg', 'Red_183.jpg', 'Red_156.jpg', 'Red_65.jpg', 'Red_35.jpg', 'Red_79.jpg', 'Red_182.jpg', 'Red_77.jpg', 'Red_40.jpg', 'Red_80.jpg', 'Red_53.jpg', 'Red_154.jpg', 'Red_52.jpg', 'Red_46.jpg', 'Red_47.jpg', 'Red_32.jpg', 'Red_152.jpg', 'Red_145.jpg', 'Red_34.jpg', 'Red_1.jpg', 'Red_171.jpg', 'Red_2.jpg', 'Red_72.jpg', 'Red_76.jpg', 'Red_68.jpg', 'Red_116.jpg', 'Red_140.jpg', 'Red_6.jpg', 'Red_21.jpg', 'Red_124.jpg', 'Red_41.jpg', 'Red_3.jpg', 'Red_24.jpg', 'Red_123.jpg', 'Red_147.jpg', 'Red_4.jpg', 'Red_115.jpg', 'Red_109.jpg', 'Red_95.jpg']\n"
          ],
          "name": "stdout"
        },
        {
          "output_type": "stream",
          "text": [
            "/usr/local/lib/python3.7/dist-packages/ipykernel_launcher.py:18: VisibleDeprecationWarning: Creating an ndarray from ragged nested sequences (which is a list-or-tuple of lists-or-tuples-or ndarrays with different lengths or shapes) is deprecated. If you meant to do this, you must specify 'dtype=object' when creating the ndarray\n"
          ],
          "name": "stderr"
        },
        {
          "output_type": "stream",
          "text": [
            "soil_dataset/test/alluvial\n",
            "['Alluvial_26.jpg', 'Alluvial_43.jpg', 'Alluvial_20.jpg', 'Alluvial_45.jpg', 'Alluvial_3.jpg', 'Alluvial_7.jpg', 'Alluvial_27.jpg', 'Alluvial_23.jpg', 'Alluvial_17.jpg', 'Alluvial_30.jpg', 'Alluvial_29.jpg', 'Alluvial_28.jpg', 'Alluvial_16.jpg', 'Alluvial_11.jpg', 'Alluvial_9.jpg', 'Alluvial_5.jpg', 'Alluvial_19.jpg', 'Alluvial_15.jpg', 'Alluvial_18.jpg', 'Alluvial_22.jpg', 'Alluvial_40.jpg', 'Alluvial_36.jpg', 'Alluvial_25.jpg', 'Alluvial_34.jpg', 'Alluvial_39.jpg', 'Alluvial_24.jpg', 'Alluvial_33.jpg', 'Alluvial_10.jpg', 'Alluvial_44.jpg', 'Alluvial_32.jpg', 'Alluvial_48.jpg', 'Alluvial_35.jpg', 'Alluvial_1.jpg', 'Alluvial_4.jpg', 'Alluvial_2.jpg', 'Alluvial_38.jpg', 'Alluvial_41.jpg', 'Alluvial_37.jpg', 'Alluvial_6.jpg', 'Alluvial_14.jpg', 'Alluvial_47.jpg', 'Alluvial_13.jpg', 'Alluvial_42.jpg', 'Alluvial_21.jpg', 'Alluvial_46.jpg', 'Alluvial_8.jpg', 'Alluvial_31.jpg', 'Alluvial_12.jpg']\n",
            "soil_dataset/test/black\n",
            "['Black_4.jpg', 'Black_36.jpg', 'Black_9.jpg', 'Black_41.jpg', 'Black_14.jpg', 'Black_35.jpg', 'Black_46.jpg', 'Black_13.jpg', 'Black_39.jpg', 'Black_45.jpg', 'Black_34.jpg', 'Black_43.jpg', 'Black_26.jpg', 'Black_12.jpg', 'Black_33.jpg', 'Black_21.jpg', 'Black_17.jpg', 'Black_28.jpg', 'Black_20.jpg', 'Black_3.jpg', 'Black_11.jpg', 'Black_19.jpg', 'Black_5.jpg', 'Black_40.jpg', 'Black_44.jpg', 'Black_22.jpg', 'Black_25.jpg', 'Black_47.jpg', 'Black_32.jpg', 'Black_24.jpg', 'Black_37.jpg', 'Black_18.jpg', 'Black_6.jpg', 'Black_38.jpg', 'Black_10.jpg', 'Black_15.jpg', 'Black_16.jpg', 'Black_1.jpg', 'Black_42.jpg', 'Black_23.jpg', 'Black_27.jpg', 'Black_2.jpg', 'Black_31.jpg', 'Black_30.jpg', 'Black_7.jpg', 'Black_29.jpg', 'Black_8.jpg']\n",
            "soil_dataset/test/clay\n",
            "['Clay_47.jpg', 'Clay_27.jpg', 'Clay_5.jpg', 'Clay_10.jpg', 'Clay_39.jpg', 'Clay_36.jpg', 'Clay_18.jpg', 'Clay_30.jpg', 'Clay_41.jpg', 'Clay_28.jpg', 'Clay_44.jpg', 'Clay_46.jpg', 'Clay_12.jpg', 'Clay_31.jpg', 'Clay_20.jpg', 'Clay_23.jpg', 'Clay_9.jpg', 'Clay_2.jpg', 'Clay_6.jpg', 'Clay_45.jpg', 'Clay_24.jpg', 'Clay_3.jpg', 'Clay_11.jpg', 'Clay_22.jpg', 'Clay_26.jpg', 'Clay_32.jpg', 'Clay_25.jpg', 'Clay_42.jpg', 'Clay_14.jpg', 'Clay_21.jpg', 'Clay_17.jpg', 'Clay_29.jpg', 'Clay_19.jpg', 'Clay_43.jpg', 'Clay_40.jpg', 'Clay_37.jpg', 'Clay_33.jpg', 'Clay_16.jpg', 'Clay_35.jpg', 'Clay_13.jpg', 'Clay_38.jpg', 'Clay_1.jpg', 'Clay_8.jpg', 'Clay_4.jpg', 'Clay_34.jpg', 'Clay_15.jpg', 'Clay_7.jpg']\n",
            "soil_dataset/test/red\n",
            "['Red_27.jpg', 'Red_42.jpg', 'Red_5.jpg', 'Red_13.jpg', 'Red_36.jpg', 'Red_37.jpg', 'Red_33.jpg', 'Red_39.jpg', 'Red_20.jpg', 'Red_16.jpg', 'Red_9.jpg', 'Red_17.jpg', 'Red_12.jpg', 'Red_30.jpg', 'Red_7.jpg', 'Red_31.jpg', 'Red_43.jpg', 'Red_8.jpg', 'Red_45.jpg', 'Red_22.jpg', 'Red_15.jpg', 'Red_14.jpg', 'Red_26.jpg', 'Red_25.jpg', 'Red_44.jpg', 'Red_38.jpg', 'Red_23.jpg', 'Red_28.jpg', 'Red_19.jpg', 'Red_29.jpg', 'Red_11.jpg', 'Red_10.jpg', 'Red_18.jpg', 'Red_35.jpg', 'Red_40.jpg', 'Red_46.jpg', 'Red_32.jpg', 'Red_34.jpg', 'Red_1.jpg', 'Red_2.jpg', 'Red_6.jpg', 'Red_21.jpg', 'Red_41.jpg', 'Red_3.jpg', 'Red_24.jpg', 'Red_4.jpg']\n"
          ],
          "name": "stdout"
        }
      ]
    },
    {
      "cell_type": "code",
      "metadata": {
        "colab": {
          "base_uri": "https://localhost:8080/"
        },
        "id": "2GOXVxPc6fqM",
        "outputId": "c1ef3619-2782-4aae-e390-3bae5bf94a65"
      },
      "source": [
        "print(len(val))"
      ],
      "execution_count": null,
      "outputs": [
        {
          "output_type": "stream",
          "text": [
            "188\n"
          ],
          "name": "stdout"
        }
      ]
    },
    {
      "cell_type": "code",
      "metadata": {
        "colab": {
          "base_uri": "https://localhost:8080/",
          "height": 335
        },
        "id": "Hd0A0zyY80c9",
        "outputId": "7037d18b-17f1-4f6d-91a4-cb6d26d9e8f3"
      },
      "source": [
        "l = []\n",
        "for i in train:\n",
        "    if(i[1] == 0):\n",
        "        l.append(\"alluvial\")\n",
        "    elif (i[1] == 1):\n",
        "        l.append(\"black\")\n",
        "    elif (i[1] == 2):\n",
        "        l.append(\"clay\")\n",
        "    else:\n",
        "        l.append(\"red\")\n",
        "sns.set_style('darkgrid')\n",
        "sns.countplot(l)"
      ],
      "execution_count": null,
      "outputs": [
        {
          "output_type": "stream",
          "text": [
            "/usr/local/lib/python3.7/dist-packages/seaborn/_decorators.py:43: FutureWarning: Pass the following variable as a keyword arg: x. From version 0.12, the only valid positional argument will be `data`, and passing other arguments without an explicit keyword will result in an error or misinterpretation.\n",
            "  FutureWarning\n"
          ],
          "name": "stderr"
        },
        {
          "output_type": "execute_result",
          "data": {
            "text/plain": [
              "<matplotlib.axes._subplots.AxesSubplot at 0x7fc37be0fe10>"
            ]
          },
          "metadata": {
            "tags": []
          },
          "execution_count": 25
        },
        {
          "output_type": "display_data",
          "data": {
            "image/png": "[encoded data removed]",
            "text/plain": [
              "<Figure size 432x288 with 1 Axes>"
            ]
          },
          "metadata": {
            "tags": []
          }
        }
      ]
    },
    {
      "cell_type": "code",
      "metadata": {
        "id": "Jj6h8lG99ID7"
      },
      "source": [
        "xtrain = []\n",
        "ytrain = []\n",
        "xval = []\n",
        "yval = []\n",
        "\n",
        "for feature, label in train:\n",
        "    xtrain.append(feature)\n",
        "    ytrain.append(label)\n",
        "\n",
        "for feature, label in val:\n",
        "    xval.append(feature)\n",
        "    yval.append(label)\n",
        "\n",
        "xtrain = np.array(xtrain) / 255\n",
        "xval = np.array(xval) / 255\n",
        "\n",
        "xtrain.reshape(-1, img_size, img_size, 1)\n",
        "ytrain = np.array(ytrain)\n",
        "\n",
        "xval.reshape(-1, img_size, img_size, 1)\n",
        "yval = np.array(yval)\n",
        "\n",
        "ytrain = keras.utils.to_categorical(ytrain, 4)\n",
        "yval = keras.utils.to_categorical(yval, 4)\n"
      ],
      "execution_count": null,
      "outputs": []
    },
    {
      "cell_type": "code",
      "metadata": {
        "colab": {
          "base_uri": "https://localhost:8080/"
        },
        "id": "zNYo9Ba_QKI8",
        "outputId": "b8af4ed9-2791-4985-cbf4-0ca4edffd350"
      },
      "source": [
        "print(len(xval))"
      ],
      "execution_count": null,
      "outputs": [
        {
          "output_type": "stream",
          "text": [
            "188\n"
          ],
          "name": "stdout"
        }
      ]
    },
    {
      "cell_type": "code",
      "metadata": {
        "id": "cdmMvb_L_Pbo"
      },
      "source": [
        "datagen = ImageDataGenerator(\n",
        "        featurewise_center=False,  # set input mean to 0 over the dataset\n",
        "        samplewise_center=False,  # set each sample mean to 0\n",
        "        featurewise_std_normalization=False,  # divide inputs by std of the dataset\n",
        "        samplewise_std_normalization=False,  # divide each input by its std\n",
        "        zca_whitening=False,  # apply ZCA whitening\n",
        "        rotation_range = 30,  # randomly rotate images in the range (degrees, 0 to 180)\n",
        "        zoom_range = 0.2, # Randomly zoom image \n",
        "        width_shift_range=0.1,  # randomly shift images horizontally (fraction of total width)\n",
        "        height_shift_range=0.1,  # randomly shift images vertically (fraction of total height)\n",
        "        horizontal_flip = True,  # randomly flip images\n",
        "        vertical_flip=False)  # randomly flip images\n",
        "\n",
        "\n",
        "datagen.fit(xtrain)"
      ],
      "execution_count": null,
      "outputs": []
    },
    {
      "cell_type": "code",
      "metadata": {
        "id": "hoMTvl_8_8YD"
      },
      "source": [
        "# model= Sequential()\n",
        "# model.add(Conv2D(kernel_size=(3,3), filters=32, activation='tanh', input_shape=(224,224,3)))\n",
        "# model.add(Conv2D(filters=30,kernel_size = (3,3),activation='tanh'))\n",
        "# model.add(MaxPool2D(2,2))\n",
        "# model.add(Conv2D(filters=30,kernel_size = (3,3),activation='tanh'))\n",
        "# model.add(MaxPool2D(2,2))\n",
        "# model.add(Conv2D(filters=30,kernel_size = (3,3),activation='tanh'))\n",
        "\n",
        "# model.add(Flatten())\n",
        "\n",
        "# model.add(Dense(20,activation='relu'))\n",
        "# model.add(Dense(15,activation='relu'))\n",
        "# model.add(Dense(4,activation = 'softmax'))\n",
        "    \n",
        "# model.compile(\n",
        "#               loss='categorical_crossentropy', \n",
        "#               metrics=['acc'],\n",
        "#               optimizer='adam'\n",
        "#              )\n",
        "model = keras.models.Sequential()\n",
        "model.add(keras.layers.Flatten(input_shape=(224,224,3)))\n",
        "model.add(keras.layers.BatchNormalization())\n",
        "model.add(keras.layers.Dense(4))\n",
        "model.add(keras.layers.BatchNormalization())\n",
        "model.add(keras.layers.Activation('softmax'))\n",
        "\n",
        "model.compile(keras.optimizers.Adam(lr=1e-5), 'categorical_crossentropy', metrics=['accuracy'])"
      ],
      "execution_count": null,
      "outputs": []
    },
    {
      "cell_type": "code",
      "metadata": {
        "colab": {
          "base_uri": "https://localhost:8080/"
        },
        "id": "tvteCAXoADCP",
        "outputId": "d246583c-1ef3-44c0-abbe-dc6f46666180"
      },
      "source": [
        "model.summary()"
      ],
      "execution_count": null,
      "outputs": [
        {
          "output_type": "stream",
          "text": [
            "Model: \"sequential_9\"\n",
            "_________________________________________________________________\n",
            "Layer (type)                 Output Shape              Param #   \n",
            "=================================================================\n",
            "flatten_9 (Flatten)          (None, 150528)            0         \n",
            "_________________________________________________________________\n",
            "batch_normalization_7 (Batch (None, 150528)            602112    \n",
            "_________________________________________________________________\n",
            "dense_17 (Dense)             (None, 4)                 602116    \n",
            "_________________________________________________________________\n",
            "batch_normalization_8 (Batch (None, 4)                 16        \n",
            "_________________________________________________________________\n",
            "activation_3 (Activation)    (None, 4)                 0         \n",
            "=================================================================\n",
            "Total params: 1,204,244\n",
            "Trainable params: 903,180\n",
            "Non-trainable params: 301,064\n",
            "_________________________________________________________________\n"
          ],
          "name": "stdout"
        }
      ]
    },
    {
      "cell_type": "code",
      "metadata": {
        "colab": {
          "base_uri": "https://localhost:8080/"
        },
        "id": "ifRqo3iwAIal",
        "outputId": "1006251b-151b-4c9f-fdc4-08b642b8eef0"
      },
      "source": [
        "history = model.fit(xtrain,ytrain,epochs = 50, validation_data = (xval, yval))"
      ],
      "execution_count": null,
      "outputs": [
        {
          "output_type": "stream",
          "text": [
            "Epoch 1/50\n",
            "23/23 [==============================] - 3s 83ms/step - loss: 0.9893 - accuracy: 0.6117 - val_loss: 1.2584 - val_accuracy: 0.3936\n",
            "Epoch 2/50\n",
            "23/23 [==============================] - 2s 73ms/step - loss: 0.6503 - accuracy: 0.8269 - val_loss: 1.0459 - val_accuracy: 0.5266\n",
            "Epoch 3/50\n",
            "23/23 [==============================] - 2s 73ms/step - loss: 0.6065 - accuracy: 0.8489 - val_loss: 0.9862 - val_accuracy: 0.6809\n",
            "Epoch 4/50\n",
            "23/23 [==============================] - 2s 73ms/step - loss: 0.5858 - accuracy: 0.8796 - val_loss: 0.9690 - val_accuracy: 0.7394\n",
            "Epoch 5/50\n",
            "23/23 [==============================] - 2s 74ms/step - loss: 0.5382 - accuracy: 0.9065 - val_loss: 0.9689 - val_accuracy: 0.8138\n",
            "Epoch 6/50\n",
            "23/23 [==============================] - 2s 74ms/step - loss: 0.5150 - accuracy: 0.9313 - val_loss: 0.9484 - val_accuracy: 0.8298\n",
            "Epoch 7/50\n",
            "23/23 [==============================] - 2s 73ms/step - loss: 0.4827 - accuracy: 0.9370 - val_loss: 0.9275 - val_accuracy: 0.7766\n",
            "Epoch 8/50\n",
            "23/23 [==============================] - 2s 74ms/step - loss: 0.4902 - accuracy: 0.9367 - val_loss: 0.9283 - val_accuracy: 0.8032\n",
            "Epoch 9/50\n",
            "23/23 [==============================] - 2s 74ms/step - loss: 0.4542 - accuracy: 0.9599 - val_loss: 0.8853 - val_accuracy: 0.8457\n",
            "Epoch 10/50\n",
            "23/23 [==============================] - 2s 74ms/step - loss: 0.4284 - accuracy: 0.9847 - val_loss: 0.8600 - val_accuracy: 0.8564\n",
            "Epoch 11/50\n",
            "23/23 [==============================] - 2s 73ms/step - loss: 0.4112 - accuracy: 0.9877 - val_loss: 0.8394 - val_accuracy: 0.8404\n",
            "Epoch 12/50\n",
            "23/23 [==============================] - 2s 74ms/step - loss: 0.4016 - accuracy: 0.9829 - val_loss: 0.8150 - val_accuracy: 0.8511\n",
            "Epoch 13/50\n",
            "23/23 [==============================] - 2s 74ms/step - loss: 0.4077 - accuracy: 0.9761 - val_loss: 0.7807 - val_accuracy: 0.8457\n",
            "Epoch 14/50\n",
            "23/23 [==============================] - 2s 73ms/step - loss: 0.4017 - accuracy: 0.9847 - val_loss: 0.7779 - val_accuracy: 0.8564\n",
            "Epoch 15/50\n",
            "23/23 [==============================] - 2s 75ms/step - loss: 0.3826 - accuracy: 0.9899 - val_loss: 0.7518 - val_accuracy: 0.8564\n",
            "Epoch 16/50\n",
            "23/23 [==============================] - 2s 74ms/step - loss: 0.3881 - accuracy: 0.9892 - val_loss: 0.7273 - val_accuracy: 0.8245\n",
            "Epoch 17/50\n",
            "23/23 [==============================] - 2s 74ms/step - loss: 0.3686 - accuracy: 0.9964 - val_loss: 0.7181 - val_accuracy: 0.8511\n",
            "Epoch 18/50\n",
            "23/23 [==============================] - 2s 77ms/step - loss: 0.3566 - accuracy: 0.9944 - val_loss: 0.6880 - val_accuracy: 0.8457\n",
            "Epoch 19/50\n",
            "23/23 [==============================] - 2s 76ms/step - loss: 0.3683 - accuracy: 0.9901 - val_loss: 0.6683 - val_accuracy: 0.8511\n",
            "Epoch 20/50\n",
            "23/23 [==============================] - 2s 75ms/step - loss: 0.3482 - accuracy: 0.9947 - val_loss: 0.6644 - val_accuracy: 0.8404\n",
            "Epoch 21/50\n",
            "23/23 [==============================] - 2s 77ms/step - loss: 0.3777 - accuracy: 0.9859 - val_loss: 0.6751 - val_accuracy: 0.8457\n",
            "Epoch 22/50\n",
            "23/23 [==============================] - 2s 75ms/step - loss: 0.3502 - accuracy: 0.9986 - val_loss: 0.6611 - val_accuracy: 0.8351\n",
            "Epoch 23/50\n",
            "23/23 [==============================] - 2s 76ms/step - loss: 0.3513 - accuracy: 0.9988 - val_loss: 0.6735 - val_accuracy: 0.8511\n",
            "Epoch 24/50\n",
            "23/23 [==============================] - 2s 78ms/step - loss: 0.3674 - accuracy: 0.9847 - val_loss: 0.7031 - val_accuracy: 0.8511\n",
            "Epoch 25/50\n",
            "23/23 [==============================] - 2s 77ms/step - loss: 0.3492 - accuracy: 0.9948 - val_loss: 0.6790 - val_accuracy: 0.8511\n",
            "Epoch 26/50\n",
            "23/23 [==============================] - 2s 77ms/step - loss: 0.3364 - accuracy: 0.9984 - val_loss: 0.6539 - val_accuracy: 0.8511\n",
            "Epoch 27/50\n",
            "23/23 [==============================] - 2s 77ms/step - loss: 0.3284 - accuracy: 0.9969 - val_loss: 0.6502 - val_accuracy: 0.8564\n",
            "Epoch 28/50\n",
            "23/23 [==============================] - 2s 77ms/step - loss: 0.3233 - accuracy: 0.9999 - val_loss: 0.6778 - val_accuracy: 0.8457\n",
            "Epoch 29/50\n",
            "23/23 [==============================] - 2s 79ms/step - loss: 0.3312 - accuracy: 1.0000 - val_loss: 0.6733 - val_accuracy: 0.8457\n",
            "Epoch 30/50\n",
            "23/23 [==============================] - 2s 82ms/step - loss: 0.3333 - accuracy: 1.0000 - val_loss: 0.6387 - val_accuracy: 0.8511\n",
            "Epoch 31/50\n",
            "23/23 [==============================] - 2s 77ms/step - loss: 0.3314 - accuracy: 0.9998 - val_loss: 0.6427 - val_accuracy: 0.8404\n",
            "Epoch 32/50\n",
            "23/23 [==============================] - 2s 79ms/step - loss: 0.3224 - accuracy: 0.9989 - val_loss: 0.6725 - val_accuracy: 0.8404\n",
            "Epoch 33/50\n",
            "23/23 [==============================] - 2s 76ms/step - loss: 0.3119 - accuracy: 1.0000 - val_loss: 0.6664 - val_accuracy: 0.8404\n",
            "Epoch 34/50\n",
            "23/23 [==============================] - 2s 73ms/step - loss: 0.3258 - accuracy: 1.0000 - val_loss: 0.6486 - val_accuracy: 0.8351\n",
            "Epoch 35/50\n",
            "23/23 [==============================] - 2s 74ms/step - loss: 0.3178 - accuracy: 1.0000 - val_loss: 0.6634 - val_accuracy: 0.8404\n",
            "Epoch 36/50\n",
            "23/23 [==============================] - 2s 75ms/step - loss: 0.3194 - accuracy: 1.0000 - val_loss: 0.6883 - val_accuracy: 0.8404\n",
            "Epoch 37/50\n",
            "23/23 [==============================] - 2s 74ms/step - loss: 0.3216 - accuracy: 1.0000 - val_loss: 0.6409 - val_accuracy: 0.8511\n",
            "Epoch 38/50\n",
            "23/23 [==============================] - 2s 75ms/step - loss: 0.3273 - accuracy: 0.9997 - val_loss: 0.6386 - val_accuracy: 0.8511\n",
            "Epoch 39/50\n",
            "23/23 [==============================] - 2s 75ms/step - loss: 0.3075 - accuracy: 1.0000 - val_loss: 0.6596 - val_accuracy: 0.8351\n",
            "Epoch 40/50\n",
            "23/23 [==============================] - 2s 75ms/step - loss: 0.3184 - accuracy: 1.0000 - val_loss: 0.6293 - val_accuracy: 0.8511\n",
            "Epoch 41/50\n",
            "23/23 [==============================] - 2s 76ms/step - loss: 0.3169 - accuracy: 1.0000 - val_loss: 0.6228 - val_accuracy: 0.8511\n",
            "Epoch 42/50\n",
            "23/23 [==============================] - 2s 77ms/step - loss: 0.3381 - accuracy: 1.0000 - val_loss: 0.6357 - val_accuracy: 0.8457\n",
            "Epoch 43/50\n",
            "23/23 [==============================] - 2s 74ms/step - loss: 0.3079 - accuracy: 1.0000 - val_loss: 0.6576 - val_accuracy: 0.8404\n",
            "Epoch 44/50\n",
            "23/23 [==============================] - 2s 75ms/step - loss: 0.3071 - accuracy: 1.0000 - val_loss: 0.6446 - val_accuracy: 0.8670\n",
            "Epoch 45/50\n",
            "23/23 [==============================] - 2s 73ms/step - loss: 0.3168 - accuracy: 1.0000 - val_loss: 0.6922 - val_accuracy: 0.8404\n",
            "Epoch 46/50\n",
            "23/23 [==============================] - 2s 76ms/step - loss: 0.3027 - accuracy: 0.9999 - val_loss: 0.7144 - val_accuracy: 0.8298\n",
            "Epoch 47/50\n",
            "23/23 [==============================] - 2s 75ms/step - loss: 0.3031 - accuracy: 1.0000 - val_loss: 0.7059 - val_accuracy: 0.8351\n",
            "Epoch 48/50\n",
            "23/23 [==============================] - 2s 75ms/step - loss: 0.3188 - accuracy: 1.0000 - val_loss: 0.6541 - val_accuracy: 0.8457\n",
            "Epoch 49/50\n",
            "23/23 [==============================] - 2s 77ms/step - loss: 0.3123 - accuracy: 1.0000 - val_loss: 0.6574 - val_accuracy: 0.8351\n",
            "Epoch 50/50\n",
            "23/23 [==============================] - 2s 73ms/step - loss: 0.3080 - accuracy: 1.0000 - val_loss: 0.6591 - val_accuracy: 0.8404\n"
          ],
          "name": "stdout"
        }
      ]
    },
    {
      "cell_type": "code",
      "metadata": {
        "colab": {
          "base_uri": "https://localhost:8080/",
          "height": 295
        },
        "id": "mH6wveWsAM5t",
        "outputId": "77fa7b25-1171-4330-827a-30a744377c7f"
      },
      "source": [
        "# summarize history for accuracy\n",
        "plt.plot(history.history['accuracy'])\n",
        "plt.plot(history.history['val_accuracy'])\n",
        "plt.title('model accuracy')\n",
        "plt.ylabel('accuracy')\n",
        "plt.xlabel('epoch')\n",
        "plt.legend(['train', 'test'], loc='upper left')\n",
        "plt.show()"
      ],
      "execution_count": null,
      "outputs": [
        {
          "output_type": "display_data",
          "data": {
            "image/png": "[encoded data removed]",
            "text/plain": [
              "<Figure size 432x288 with 1 Axes>"
            ]
          },
          "metadata": {
            "tags": []
          }
        }
      ]
    },
    {
      "cell_type": "code",
      "metadata": {
        "colab": {
          "base_uri": "https://localhost:8080/",
          "height": 295
        },
        "id": "shLx2GcxJdxX",
        "outputId": "01be8f2c-e4fa-4b8b-fbab-2bbc1d03309f"
      },
      "source": [
        "# summarize history for loss\n",
        "plt.plot(history.history['loss'])\n",
        "plt.plot(history.history['val_loss'])\n",
        "plt.title('model loss')\n",
        "plt.ylabel('loss')\n",
        "plt.xlabel('epoch')\n",
        "plt.legend(['train', 'test'], loc='upper left')\n",
        "plt.show()"
      ],
      "execution_count": null,
      "outputs": [
        {
          "output_type": "display_data",
          "data": {
            "image/png": "[encoded data removed]",
            "text/plain": [
              "<Figure size 432x288 with 1 Axes>"
            ]
          },
          "metadata": {
            "tags": []
          }
        }
      ]
    },
    {
      "cell_type": "code",
      "metadata": {
        "colab": {
          "base_uri": "https://localhost:8080/"
        },
        "id": "oUnRdXqiLVAy",
        "outputId": "81ae8607-d3ce-4414-8da4-82dd994c306f"
      },
      "source": [
        "# Evaluating model on validation data\n",
        "evaluate = model.evaluate(xval,yval)\n",
        "print(evaluate)"
      ],
      "execution_count": null,
      "outputs": [
        {
          "output_type": "stream",
          "text": [
            "188 188\n",
            "6/6 [==============================] - 0s 18ms/step - loss: 0.6591 - accuracy: 0.8404\n",
            "[0.6591143608093262, 0.8404255509376526]\n"
          ],
          "name": "stdout"
        }
      ]
    },
    {
      "cell_type": "code",
      "metadata": {
        "colab": {
          "base_uri": "https://localhost:8080/"
        },
        "id": "wFf9_HRoLY6J",
        "outputId": "24bb6117-d1f8-41cd-fd2d-3d3894c41296"
      },
      "source": [
        "checkImage = xval[0:1]\n",
        "checklabel = yval[0:1]\n",
        "\n",
        "predict = model.predict(np.array(checkImage))\n",
        "\n",
        "output = { 0:'alluvial',1:'black',2:'clay',3:'red'}\n",
        "\n",
        "print(\"Actual :- \",checklabel)\n",
        "print(\"Predicted :- \",output[np.argmax(predict)])"
      ],
      "execution_count": null,
      "outputs": [
        {
          "output_type": "stream",
          "text": [
            "Actual :-  [[1. 0. 0. 0.]]\n",
            "Predicted :-  alluvial\n"
          ],
          "name": "stdout"
        }
      ]
    },
    {
      "cell_type": "code",
      "metadata": {
        "id": "wysNHClBLhVZ"
      },
      "source": [
        "model.save(\"soilClassify.h5\")"
      ],
      "execution_count": null,
      "outputs": []
    },
    {
      "cell_type": "code",
      "metadata": {
        "id": "9H2J6jnZWhSz"
      },
      "source": [
        ""
      ],
      "execution_count": null,
      "outputs": []
    }
  ]
}